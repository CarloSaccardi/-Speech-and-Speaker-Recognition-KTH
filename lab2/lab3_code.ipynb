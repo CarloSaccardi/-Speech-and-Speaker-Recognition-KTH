{
 "cells": [
  {
   "cell_type": "code",
   "execution_count": 1,
   "id": "6e88e4fa",
   "metadata": {},
   "outputs": [],
   "source": [
    "import numpy as np\n",
    "from lab2_tools import *\n",
    "from prondict import prondict\n",
    "from matplotlib import pyplot as plt\n",
    "import warnings\n",
    "%matplotlib inline"
   ]
  },
  {
   "cell_type": "code",
   "execution_count": 2,
   "id": "128f409a",
   "metadata": {
    "scrolled": false
   },
   "outputs": [],
   "source": [
    "data = np.load('lab2_data.npz', allow_pickle=True)['data']\n",
    "phoneHMMs = np.load('lab2_models_onespkr.npz', allow_pickle=True)['phoneHMMs'].item()\n",
    "phones = list(sorted(phoneHMMs.keys()))\n",
    "example = np.load('lab2_example.npz', allow_pickle=True)['example'].item()\n",
    "phoneHMMs_all = np.load('lab2_models_all.npz', allow_pickle=True)['phoneHMMs'].item()\n"
   ]
  },
  {
   "cell_type": "markdown",
   "id": "9cac3a47",
   "metadata": {},
   "source": [
    "## 4 Concatenating HMMs"
   ]
  },
  {
   "cell_type": "markdown",
   "id": "a16b47ed",
   "metadata": {},
   "source": [
    "Speech is not stationary. We need to model short segments independently by using foundamental units. The foundamental units can not be the entire words, but they can be phonemes. Usually, for each phoneme we model three segments. Every segment can be represented by 13 MFCCs."
   ]
  },
  {
   "cell_type": "code",
   "execution_count": 3,
   "id": "58e244e8",
   "metadata": {},
   "outputs": [],
   "source": [
    "def concatHMMs(hmmmodels, namelist):\n",
    "    concat = hmmmodels[namelist[0]]\n",
    "    for idx in range(1,len(namelist)):\n",
    "        concat = concatTwoHMMs(concat, hmmmodels[namelist[idx]])\n",
    "    return concat\n",
    "\n",
    "\n",
    "def concatTwoHMMs(hmm1, hmm2):\n",
    "    hmm_combined = {}\n",
    "    exit_state1_pi = hmm1['startprob'][-1] #a priori probability of exit state (model 1)\n",
    "    hmm_combined['startprob'] = np.array(list(hmm1['startprob'][:-1]) + list(hmm2['startprob']*exit_state1_pi)) \n",
    "    \n",
    "    hmm_combined['transmat'] = np.zeros( (len(hmm_combined['startprob']), len(hmm_combined['startprob'])) )#(k+1)x(k+1)\n",
    "    transmat1_shape = hmm1['transmat'].shape\n",
    "    hmm_combined['transmat'][:transmat1_shape[0], :transmat1_shape[1]-1] = hmm1['transmat'][:,:-1]#Do not include exit_state1_A\n",
    "    exit_state1_A = hmm1['transmat'][:-1,-1] #transition probability from state i to exit state (model 1)\n",
    "    products_p = np.array([exit_state1_A * i for i in hmm2['startprob']]).T #Colored part of the 'A-concat' matrix in the paper\n",
    "                                                                            #concatenating_hmms, page 4\n",
    "    hmm_combined['transmat'][:transmat1_shape[0]-1, transmat1_shape[1]-1:] = products_p \n",
    "    hmm_combined['transmat'][transmat1_shape[0]-1:, transmat1_shape[1]-1:] = hmm2['transmat']\n",
    "    hmm_combined['means'] = np.concatenate((hmm1['means'], hmm2['means']))\n",
    "    hmm_combined['covars'] = np.concatenate((hmm1['covars'], hmm2['covars']))\n",
    "    return hmm_combined\n"
   ]
  },
  {
   "cell_type": "code",
   "execution_count": 4,
   "id": "2ef6c052",
   "metadata": {
    "scrolled": true
   },
   "outputs": [],
   "source": [
    "twoHMMs = concatTwoHMMs(phoneHMMs['sil'], phoneHMMs['ow'])\n",
    "wordHMMs = {}\n",
    "wordHMMs['o'] = concatHMMs(phoneHMMs, ['sil', 'ow', 'sil'])"
   ]
  },
  {
   "cell_type": "markdown",
   "id": "63ecc9ad",
   "metadata": {},
   "source": [
    "## 5 HMM Likelihood and Recognition\n"
   ]
  },
  {
   "cell_type": "markdown",
   "id": "d462d77c",
   "metadata": {},
   "source": [
    "#### 5.1 Gaussian emission probabilities"
   ]
  },
  {
   "cell_type": "code",
   "execution_count": 5,
   "id": "123502d9",
   "metadata": {},
   "outputs": [
    {
     "name": "stdout",
     "output_type": "stream",
     "text": [
      "THE TWO ARRAYS ARE THE SAME  ✓\n"
     ]
    }
   ],
   "source": [
    "obsloglik = log_multivariate_normal_density_diag(example['lmfcc'], wordHMMs['o']['means'], wordHMMs['o']['covars']) \n",
    "if np.allclose(obsloglik, example[\"obsloglik\"]):\n",
    "    print(\"THE TWO ARRAYS ARE THE SAME \", u'\\u2713')"
   ]
  },
  {
   "cell_type": "code",
   "execution_count": 6,
   "id": "a643ae69",
   "metadata": {
    "scrolled": true
   },
   "outputs": [
    {
     "data": {
      "text/plain": [
       "Text(0, 0.5, 'States')"
      ]
     },
     "execution_count": 6,
     "metadata": {},
     "output_type": "execute_result"
    },
    {
     "data": {
      "image/png": "[encoded data removed]",
      "text/plain": [
       "<Figure size 720x216 with 2 Axes>"
      ]
     },
     "metadata": {
      "needs_background": "light"
     },
     "output_type": "display_data"
    }
   ],
   "source": [
    "plt.rcParams['figure.figsize'] = [10, 3]\n",
    "plt.title(\"Observation Likelihood\")\n",
    "plt.pcolormesh(obsloglik.T)\n",
    "plt.colorbar()\n",
    "plt.yticks(range(1,10), verticalalignment='top')\n",
    "plt.xlabel('Frames in sample')\n",
    "plt.ylabel('States')"
   ]
  },
  {
   "cell_type": "markdown",
   "id": "40fee833",
   "metadata": {},
   "source": [
    "In the figure above we are plotting the probablities of each state, given a time instance in the utterance of the sound.\n",
    "The word 'o' is made of 3 phoneme (each of them modeled with 3 states), one of them corrisponds to O(ow), and the other two are 'sil' (silence) and they are placed at the start and end of the utterence. In other words, the first and last frames of the sample are mostly silent and the middle frames correspond to the word 'o'\n",
    "\n",
    "From the color bar, blue indicates that the pobability that the model is in that state, given the corresponding time frame, is low.  Yellow indicates a higher probability. Thus, as expected, towards the start and the end of the utterence (time frames) we have a higher probability in states 1,2,3 and 7,8,9 (silence 'sil'), and blue in states 4,5,6 (o wird 'ow'). On the other hand, we have a higher probability in states 4,5,6 in the middle of the utterence, between time frames 15 and 45, which correspond to the word 'o'."
   ]
  },
  {
   "cell_type": "markdown",
   "id": "a5cf8252",
   "metadata": {},
   "source": [
    "#### 5.2 Forward Algorithm"
   ]
  },
  {
   "cell_type": "code",
   "execution_count": 7,
   "id": "e7ea70c9",
   "metadata": {},
   "outputs": [],
   "source": [
    "def forward(log_emlik, log_startprob, log_transmat):\n",
    "    alphas = np.zeros((log_emlik.shape))\n",
    "    alphas[0, :] = log_emlik[0, :] + log_startprob[:-1]#alpha zeros, first row of the matrix at time step 1.\n",
    "    \n",
    "    for n in range(1, log_emlik.shape[0]):\n",
    "        \n",
    "        for state in range(log_emlik.shape[1]):\n",
    "            alphas[n, state] = logsumexp(alphas[n-1, :] + log_transmat[:-1, state], axis=0) + log_emlik[n, state]\n",
    "    \n",
    "    return alphas\n",
    "    "
   ]
  },
  {
   "cell_type": "code",
   "execution_count": 8,
   "id": "d1307931",
   "metadata": {
    "scrolled": false
   },
   "outputs": [
    {
     "name": "stdout",
     "output_type": "stream",
     "text": [
      "THE TWO ARRAYS ARE THE SAME  ✓\n"
     ]
    },
    {
     "name": "stderr",
     "output_type": "stream",
     "text": [
      "<ipython-input-8-3d342c952f57>:1: RuntimeWarning: divide by zero encountered in log\n",
      "  alphas = forward(obsloglik, np.log(wordHMMs['o']['startprob']), np.log(wordHMMs['o']['transmat']))\n"
     ]
    }
   ],
   "source": [
    "alphas = forward(obsloglik, np.log(wordHMMs['o']['startprob']), np.log(wordHMMs['o']['transmat']))\n",
    "if np.allclose(alphas, example['logalpha']):\n",
    "    print(\"THE TWO ARRAYS ARE THE SAME \", u'\\u2713')"
   ]
  },
  {
   "cell_type": "code",
   "execution_count": 9,
   "id": "dd7d46ea",
   "metadata": {},
   "outputs": [
    {
     "data": {
      "text/plain": [
       "Text(0, 0.5, 'States')"
      ]
     },
     "execution_count": 9,
     "metadata": {},
     "output_type": "execute_result"
    },
    {
     "data": {
      "image/png": "[encoded data removed]",
      "text/plain": [
       "<Figure size 720x216 with 2 Axes>"
      ]
     },
     "metadata": {
      "needs_background": "light"
     },
     "output_type": "display_data"
    }
   ],
   "source": [
    "plt.rcParams['figure.figsize'] = [10, 3]\n",
    "plt.title(\"Alphas\")\n",
    "plt.pcolormesh(alphas.T)\n",
    "plt.colorbar()\n",
    "plt.yticks(range(1,10), verticalalignment='top')\n",
    "plt.xlabel('Frames in sample')\n",
    "plt.ylabel('States')"
   ]
  },
  {
   "cell_type": "markdown",
   "id": "fb3e806a",
   "metadata": {},
   "source": [
    "alpha represent the probabilty of observing a given sequence o_1,o_2,...,o_n and ending up in state j. \n",
    "\n",
    "From the observation likelihood calculated in the previous section, we know that the utterance 'ow' lies in the frames 15-45, right in the middle of two silence phones. This alpha pass shows a similar behaviour: between time step 15-45 we get higher values in states 4,5,6, whereas for time step 0 to 15 and 50 to 71 we get higher probabilities in states 1,2,3 and 7,8,9 respectivly. Notice that as the frames move to end, the probabilities of states tend to increase as we move from state 1 to 9.\n",
    "\n",
    "Since alpha is the probabilty of observing a given sequence and eding up in a particular state, the probabilty of obeserving the entire sequence regardless of where we might end up is obtained by marginalizing out the 'state variable', once the sequence of observations is completeed."
   ]
  },
  {
   "cell_type": "code",
   "execution_count": 10,
   "id": "0892795a",
   "metadata": {
    "scrolled": false
   },
   "outputs": [
    {
     "name": "stdout",
     "output_type": "stream",
     "text": [
      "the two likelihoods are the same  ✓\n"
     ]
    }
   ],
   "source": [
    "if np.allclose(alphas[-1,-1] , example[\"loglik\"]):\n",
    "    print(\"the two likelihoods are the same \", u'\\u2713')"
   ]
  },
  {
   "cell_type": "code",
   "execution_count": 11,
   "id": "9d6b5306",
   "metadata": {
    "scrolled": false
   },
   "outputs": [],
   "source": [
    "def final_logLikelihood(phoneHMMs, max_plot = False):\n",
    "#create a dictionary with the 11 models and their corrispondent parameters\n",
    "    wordHMMs_all = {}\n",
    "    matrix_final_alphas = np.zeros((len(prondict.keys()), data.shape[0]))\n",
    "\n",
    "    for utterence in range(len(data)):\n",
    "        i = 0\n",
    "        for digit in prondict.keys():\n",
    "\n",
    "            wordHMMs_all[digit] = concatHMMs(phoneHMMs, ['sil'] + prondict[str(digit)] + ['sil'])\n",
    "            obsloglik = log_multivariate_normal_density_diag(data[utterence]['lmfcc'], wordHMMs_all[str(digit)]['means'], \n",
    "                                                             wordHMMs_all[str(digit)]['covars'])\n",
    "            alphas = forward(obsloglik, np.log(wordHMMs_all[str(digit)]['startprob']), np.log(wordHMMs_all[str(digit)]['transmat']))\n",
    "            sequence_logLikelihood = alphas[-1,-1]\n",
    "            matrix_final_alphas[i][utterence] = sequence_logLikelihood\n",
    "            i+=1\n",
    "            \n",
    "    if max_plot:\n",
    "        matrix_final_alphas_max = np.copy(matrix_final_alphas)\n",
    "        max_alpha = (matrix_final_alphas_max == matrix_final_alphas_max.max(axis = 0,keepdims = 1))\n",
    "        return max_alpha, wordHMMs_all\n",
    "    else:\n",
    "        return matrix_final_alphas, wordHMMs_all"
   ]
  },
  {
   "cell_type": "code",
   "execution_count": 21,
   "id": "e36b32ac",
   "metadata": {},
   "outputs": [
    {
     "name": "stdout",
     "output_type": "stream",
     "text": [
      "Wall time: 17.6 s\n"
     ]
    }
   ],
   "source": [
    "%%time\n",
    "warnings.filterwarnings('ignore')\n",
    "matrix_final_alphas, wordHMMs_all = final_logLikelihood(phoneHMMs, max_plot = False)#phoneHMMs"
   ]
  },
  {
   "cell_type": "code",
   "execution_count": 12,
   "id": "9e20beb4",
   "metadata": {},
   "outputs": [
    {
     "name": "stdout",
     "output_type": "stream",
     "text": [
      "Wall time: 15.6 s\n"
     ]
    },
    {
     "data": {
      "image/png": "[encoded data removed]",
      "text/plain": [
       "<Figure size 720x216 with 2 Axes>"
      ]
     },
     "metadata": {
      "needs_background": "light"
     },
     "output_type": "display_data"
    }
   ],
   "source": [
    "all_words = [x for x in wordHMMs_all]\n",
    "all_utterance = [x['digit'] for x in data]   \n",
    "\n",
    "plt.rcParams['figure.figsize'] = [10, 3]\n",
    "plt.title(\"sequence logLikelihoods\")\n",
    "plt.pcolormesh(matrix_final_alphas)\n",
    "plt.colorbar()\n",
    "plt.yticks(range(1,10), verticalalignment='top')\n",
    "plt.xlabel('Utterences')\n",
    "plt.ylabel('Models')\n",
    "plt.yticks(range(len(all_words)), all_words, verticalalignment = 'bottom')\n",
    "_ = plt.xticks(range(len(all_utterance)), all_utterance, horizontalalignment = 'left')"
   ]
  },
  {
   "cell_type": "code",
   "execution_count": 13,
   "id": "e1925797",
   "metadata": {
    "scrolled": true
   },
   "outputs": [
    {
     "name": "stdout",
     "output_type": "stream",
     "text": [
      "Accuracy : 97.72727272727273\n"
     ]
    },
    {
     "data": {
      "image/png": "[encoded data removed]",
      "text/plain": [
       "<Figure size 720x216 with 2 Axes>"
      ]
     },
     "metadata": {
      "needs_background": "light"
     },
     "output_type": "display_data"
    }
   ],
   "source": [
    "matrix_final_alphas, wordHMMs_all = final_logLikelihood(phoneHMMs_all, max_plot = True)#phoneHMMs\n",
    "all_words = [x for x in wordHMMs_all]\n",
    "all_utterance = [x['digit'] for x in data]   \n",
    "\n",
    "plt.rcParams['figure.figsize'] = [10, 3]\n",
    "plt.title(\"sequence logLikelihoods\")\n",
    "plt.pcolormesh(matrix_final_alphas)\n",
    "plt.colorbar()\n",
    "plt.yticks(range(1,10), verticalalignment='top')\n",
    "plt.xlabel('Utterences')\n",
    "plt.ylabel('Models')\n",
    "plt.yticks(range(len(all_words)), all_words, verticalalignment = 'bottom')\n",
    "_ = plt.xticks(range(len(all_utterance)), all_utterance, horizontalalignment = 'left')\n",
    "match = 0\n",
    "for i in range(len(all_words)):\n",
    "    for j in range(len(all_utterance)):\n",
    "        if(matrix_final_alphas[i,j] == True and all_words[i] == all_utterance[j]):\n",
    "            match += 1\n",
    "print(\"Accuracy :\", 100*float(match)/matrix_final_alphas.shape[1])"
   ]
  },
  {
   "cell_type": "markdown",
   "id": "f95741af",
   "metadata": {},
   "source": [
    "#### Viterbi algorithm"
   ]
  },
  {
   "cell_type": "code",
   "execution_count": 14,
   "id": "62819e28",
   "metadata": {},
   "outputs": [],
   "source": [
    "def viterbi(log_emlik, log_startprob, log_transmat, forceFinalState=True):\n",
    "    \"\"\"Viterbi path.\n",
    "\n",
    "    Args:\n",
    "        log_emlik: NxM array of emission log likelihoods, N frames, M states\n",
    "        log_startprob: log probability to start in state i\n",
    "        log_transmat: transition log probability from state i to j\n",
    "        forceFinalState: if True, start backtracking from the final state in\n",
    "                  the model, instead of the best state at the last time step\n",
    "\n",
    "    Output:\n",
    "        viterbi_loglik: log likelihood of the best path\n",
    "        viterbi_path: best path\n",
    "    \"\"\"\n",
    "    \n",
    "    N = log_emlik.shape[0]\n",
    "    M = log_emlik.shape[1]\n",
    "    \n",
    "    viterbi_path = [None]*N\n",
    "    viterbi_loglik = 0\n",
    "    V = np.zeros((N,M))\n",
    "    B = np.zeros((N,M))\n",
    "    \n",
    "    for obs in range(N):\n",
    "        for state in range(M):\n",
    "            if obs == 0:\n",
    "                V[0, state] = log_startprob[state] + log_emlik[0, state]\n",
    "            else:\n",
    "                V[obs, state] = np.max(V[obs-1, :] + log_transmat[:, state]) + log_emlik[obs, state]\n",
    "                B[obs, state] = np.argmax(V[obs-1, :] + log_transmat[:, state])\n",
    "                \n",
    "    viterbi_path[-1] = np.argmax(B[-1, :])\n",
    "    viterbi_loglik = V[-1, viterbi_path[-1]]\n",
    "    \n",
    "    for obs in range(2, N+1):\n",
    "        st = viterbi_path[-obs+1]\n",
    "        viterbi_path[-obs] = B[-obs+1, int(st)]\n",
    "        \n",
    "    return viterbi_loglik, viterbi_path"
   ]
  },
  {
   "cell_type": "code",
   "execution_count": 15,
   "id": "a5dd1bdd",
   "metadata": {
    "scrolled": true
   },
   "outputs": [
    {
     "name": "stdout",
     "output_type": "stream",
     "text": [
      "vloglik  ✓\n",
      "vpath  ✓\n"
     ]
    }
   ],
   "source": [
    "obsloglik = log_multivariate_normal_density_diag(example['lmfcc'], wordHMMs['o']['means'], wordHMMs['o']['covars'])  \n",
    "vloglik, vpath = viterbi(obsloglik, np.log(wordHMMs['o']['startprob'][:-1]), np.log(wordHMMs['o']['transmat'][:-1,:-1]))\n",
    "if np.allclose(vloglik, example['vloglik']):\n",
    "    print(\"vloglik \", u'\\u2713')\n",
    "if np.allclose(vpath, example['vpath']):\n",
    "    print(\"vpath \", u'\\u2713')"
   ]
  },
  {
   "cell_type": "code",
   "execution_count": 16,
   "id": "1f2c0d2e",
   "metadata": {},
   "outputs": [
    {
     "name": "stdout",
     "output_type": "stream",
     "text": [
      "[1.0, 2.0, 2.0, 2.0, 3.0, 3.0, 3.0, 4.0, 4.0, 4.0, 4.0, 4.0, 4.0, 4.0, 4.0, 4.0, 4.0, 5.0, 5.0, 5.0, 5.0, 5.0, 5.0, 5.0, 5.0, 5.0, 5.0, 6.0, 6.0, 6.0, 6.0, 6.0, 6.0, 6.0, 6.0, 6.0, 6.0, 6.0, 6.0, 6.0, 6.0, 6.0, 6.0, 6.0, 6.0, 6.0, 6.0, 7.0, 7.0, 7.0, 7.0, 7.0, 7.0, 7.0, 7.0, 7.0, 7.0, 7.0, 7.0, 7.0, 8.0, 9.0, 9.0, 9.0, 9.0, 9.0, 9.0, 9.0, 9.0, 9.0, 9]\n"
     ]
    },
    {
     "data": {
      "image/png": "[encoded data removed]",
      "text/plain": [
       "<Figure size 1080x216 with 2 Axes>"
      ]
     },
     "metadata": {
      "needs_background": "light"
     },
     "output_type": "display_data"
    }
   ],
   "source": [
    "alphas = forward(obsloglik, np.log(wordHMMs['o']['startprob']), np.log(wordHMMs['o']['transmat']))\n",
    "alpha_max = np.copy(alphas.T)\n",
    "alpha_max = (alpha_max == alpha_max.max(axis = 0,keepdims = 1))\n",
    "_ = plt.figure(figsize=(15,3))\n",
    "_ = plt.pcolormesh(np.ma.masked_array(alphas.T))\n",
    "_ = plt.plot(vpath, linewidth = 2)\n",
    "_ = plt.colorbar()\n",
    "_ = plt.yticks(range(1,10), verticalalignment='top')\n",
    "_ = plt.xlabel('Frames in sample')\n",
    "_ = plt.ylabel('sil-o-sil (9 states)')\n",
    "print([x + 1 for x in vpath])"
   ]
  },
  {
   "cell_type": "code",
   "execution_count": 17,
   "id": "9e87b5a7",
   "metadata": {},
   "outputs": [
    {
     "data": {
      "image/png": "[encoded data removed]",
      "text/plain": [
       "<Figure size 1080x216 with 1 Axes>"
      ]
     },
     "metadata": {
      "needs_background": "light"
     },
     "output_type": "display_data"
    }
   ],
   "source": [
    "alpha_max = np.copy(alphas.T)\n",
    "alpha_max = (alpha_max == alpha_max.max(axis = 0,keepdims = 1))\n",
    "_ = plt.figure(figsize=(15,3))\n",
    "_ = plt.pcolormesh(np.ma.masked_array(alpha_max))\n",
    "_ = plt.plot(vpath, linewidth = 2)\n",
    "_ = plt.yticks(range(1,10), verticalalignment='top')\n",
    "_ = plt.xlabel('Frames in sample')\n",
    "_ = plt.ylabel('sil-o-sil (9 states)')"
   ]
  },
  {
   "cell_type": "code",
   "execution_count": 18,
   "id": "29742593",
   "metadata": {},
   "outputs": [
    {
     "name": "stdout",
     "output_type": "stream",
     "text": [
      "Wall time: 7.08 s\n"
     ]
    }
   ],
   "source": [
    "%%time\n",
    "warnings.filterwarnings('ignore')\n",
    "performance = np.zeros((44,11))\n",
    "#for words in wordHMMs: print(words, end = \"\\t\")\n",
    "#print()\n",
    "no_utterance = 0\n",
    "for utterance in data:\n",
    "    no_word = 0 \n",
    "    for word in wordHMMs_all:\n",
    "        obsloglik = log_multivariate_normal_density_diag(utterance['lmfcc'], wordHMMs_all[word]['means'], wordHMMs_all[word]['covars'])  \n",
    "        log_startprob = np.log(wordHMMs_all[word]['startprob'][:-1])\n",
    "        log_transmat = np.log(wordHMMs_all[word]['transmat'][:-1,:-1])\n",
    "        vloglik, vpath = viterbi(obsloglik, log_startprob, log_transmat)\n",
    "        performance[no_utterance, no_word] = vloglik\n",
    "        #print(int(hmm_loglik), end = \"\\t\")\n",
    "        #print(no_utterance,no_word ,end = '\\t')\n",
    "        no_word += 1\n",
    "    #print()\n",
    "    no_utterance += 1\n",
    "#uncomment prints to display as tables with integer values"
   ]
  },
  {
   "cell_type": "code",
   "execution_count": 19,
   "id": "b3deed56",
   "metadata": {},
   "outputs": [
    {
     "data": {
      "image/png": "[encoded data removed]",
      "text/plain": [
       "<Figure size 1080x216 with 2 Axes>"
      ]
     },
     "metadata": {
      "needs_background": "light"
     },
     "output_type": "display_data"
    }
   ],
   "source": [
    "all_words = []\n",
    "for x in wordHMMs_all: all_words.append(x)\n",
    "all_utterance = []   \n",
    "for x in data: all_utterance.append(x['digit'])\n",
    "_ = plt.rcParams['figure.figsize'] = [15, 3]\n",
    "_ = plt.subplot(111).set_title(\"Performance of HMMs\")\n",
    "_ = plt.pcolormesh(performance.T)\n",
    "_ = plt.colorbar()\n",
    "_ = plt.ylabel('Word Models')\n",
    "_ = plt.xlabel('utterances')\n",
    "_ = plt.yticks(range(len(all_words)), all_words, verticalalignment = 'bottom')\n",
    "_ = plt.xticks(range(len(all_utterance)), all_utterance, horizontalalignment = 'left')"
   ]
  },
  {
   "cell_type": "code",
   "execution_count": 20,
   "id": "4d6e2a27",
   "metadata": {},
   "outputs": [
    {
     "name": "stdout",
     "output_type": "stream",
     "text": [
      "Accuracy : 100.0\n"
     ]
    },
    {
     "data": {
      "image/png": "[encoded data removed]",
      "text/plain": [
       "<Figure size 1080x216 with 1 Axes>"
      ]
     },
     "metadata": {
      "needs_background": "light"
     },
     "output_type": "display_data"
    }
   ],
   "source": [
    "performance_max = np.copy(performance.T)\n",
    "predictions_viterbi = (performance_max == performance_max.max(axis = 0,keepdims = 1))\n",
    "_ = plt.rcParams['figure.figsize'] = [15, 3]\n",
    "_ = plt.subplot(111).set_title(\"Performance of HMMs\")\n",
    "_ = plt.pcolormesh(predictions_viterbi)\n",
    "_ = plt.ylabel('Word Models')\n",
    "_ = plt.xlabel('utterances')\n",
    "_ = plt.yticks(range(len(all_words)), all_words, verticalalignment = 'bottom')\n",
    "_ = plt.xticks(range(len(all_utterance)), all_utterance, horizontalalignment = 'left')\n",
    "match = 0\n",
    "for i in range(len(all_words)):\n",
    "    for j in range(len(all_utterance)):\n",
    "        if(predictions_viterbi[i,j] == True and all_words[i] == all_utterance[j]):\n",
    "            match += 1\n",
    "print(\"Accuracy :\", 100*float(match)/predictions_viterbi.shape[1])"
   ]
  },
  {
   "cell_type": "code",
   "execution_count": null,
   "id": "8d0cabe4",
   "metadata": {},
   "outputs": [],
   "source": []
  }
 ],
 "metadata": {
  "kernelspec": {
   "display_name": "Python 3",
   "language": "python",
   "name": "python3"
  },
  "language_info": {
   "codemirror_mode": {
    "name": "ipython",
    "version": 3
   },
   "file_extension": ".py",
   "mimetype": "text/x-python",
   "name": "python",
   "nbconvert_exporter": "python",
   "pygments_lexer": "ipython3",
   "version": "3.8.5"
  }
 },
 "nbformat": 4,
 "nbformat_minor": 5
}
